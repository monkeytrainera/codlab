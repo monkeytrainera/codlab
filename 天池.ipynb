{
  "nbformat": 4,
  "nbformat_minor": 0,
  "metadata": {
    "colab": {
      "name": "天池.ipynb",
      "provenance": [],
      "collapsed_sections": [],
      "authorship_tag": "ABX9TyO3P2MSdgX2eLNctApOVr22",
      "include_colab_link": true
    },
    "kernelspec": {
      "name": "python3",
      "display_name": "Python 3"
    },
    "language_info": {
      "name": "python"
    },
    "accelerator": "GPU"
  },
  "cells": [
    {
      "cell_type": "markdown",
      "metadata": {
        "id": "view-in-github",
        "colab_type": "text"
      },
      "source": [
        "<a href=\"https://colab.research.google.com/github/monkeytrainera/codlab/blob/main/%E5%A4%A9%E6%B1%A0.ipynb\" target=\"_parent\"><img src=\"https://colab.research.google.com/assets/colab-badge.svg\" alt=\"Open In Colab\"/></a>"
      ]
    },
    {
      "cell_type": "code",
      "metadata": {
        "colab": {
          "base_uri": "https://localhost:8080/"
        },
        "id": "Ys3u3pnbHkvb",
        "outputId": "709fa877-0773-4e7b-8d51-f653cbc97075"
      },
      "source": [
        "from google.colab import drive\n",
        "drive.mount('/content/drive')"
      ],
      "execution_count": 3,
      "outputs": [
        {
          "output_type": "stream",
          "name": "stdout",
          "text": [
            "Drive already mounted at /content/drive; to attempt to forcibly remount, call drive.mount(\"/content/drive\", force_remount=True).\n"
          ]
        }
      ]
    },
    {
      "cell_type": "code",
      "metadata": {
        "id": "PER-74O8Hnm3"
      },
      "source": [
        "path = '/content/drive/MyDrive/Colab Notebooks/小象学院/天池新人赛'\n",
        "import os\n",
        "os.chdir(path)"
      ],
      "execution_count": 4,
      "outputs": []
    },
    {
      "cell_type": "code",
      "metadata": {
        "id": "AzORp7MwHvxJ"
      },
      "source": [
        "'''\n",
        "import tensorflow as tf\n",
        "train_data_url = 'https://tianchi-competition.oss-cn-hangzhou.aliyuncs.com/531810/train_set.csv.zip'\n",
        "test_data_url = 'https://tianchi-competition.oss-cn-hangzhou.aliyuncs.com/531810/test_a.csv.zip'\n",
        "sample_submit_url = 'https://tianchi-competition.oss-cn-hangzhou.aliyuncs.com/531810/test_a_sample_submit.csv'\n",
        "'''"
      ],
      "execution_count": null,
      "outputs": []
    },
    {
      "cell_type": "code",
      "metadata": {
        "id": "xOoIqhrvHyUx",
        "colab": {
          "base_uri": "https://localhost:8080/"
        },
        "outputId": "257dd851-0495-4629-e5cd-4bf81fa5ad16"
      },
      "source": [
        "'''\n",
        "train_data_path = tf.keras.utils.get_file('train_set.csv.zip', train_data_url, untar=False, extract=True)\n",
        "test_data_path = tf.keras.utils.get_file('test_a.csv.zip', test_data_url, untar=False, extract=True)\n",
        "sample_submit_path = tf.keras.utils.get_file('test_a_sample_submit.csv', sample_submit_url)\n",
        "'''"
      ],
      "execution_count": null,
      "outputs": [
        {
          "output_type": "stream",
          "name": "stdout",
          "text": [
            "Downloading data from https://tianchi-competition.oss-cn-hangzhou.aliyuncs.com/531810/train_set.csv.zip\n",
            "247586816/247578940 [==============================] - 16s 0us/step\n",
            "247595008/247578940 [==============================] - 16s 0us/step\n",
            "Downloading data from https://tianchi-competition.oss-cn-hangzhou.aliyuncs.com/531810/test_a.csv.zip\n",
            "61988864/61986708 [==============================] - 3s 0us/step\n",
            "61997056/61986708 [==============================] - 3s 0us/step\n",
            "Downloading data from https://tianchi-competition.oss-cn-hangzhou.aliyuncs.com/531810/test_a_sample_submit.csv\n",
            "106496/100006 [===============================] - 0s 1us/step\n",
            "114688/100006 [==================================] - 0s 1us/step\n"
          ]
        }
      ]
    },
    {
      "cell_type": "code",
      "metadata": {
        "colab": {
          "base_uri": "https://localhost:8080/"
        },
        "id": "RNmefFB1Cbho",
        "outputId": "41871a1d-b56a-4380-9e4e-a4a04fe2f8f4"
      },
      "source": [
        "!ls"
      ],
      "execution_count": 3,
      "outputs": [
        {
          "output_type": "stream",
          "name": "stdout",
          "text": [
            "NLP_data_list_0715.csv\ttest_data.csv\t天池.ipynb\n",
            "sample_submit_data\ttrain_data.csv\n"
          ]
        }
      ]
    },
    {
      "cell_type": "code",
      "metadata": {
        "colab": {
          "base_uri": "https://localhost:8080/",
          "height": 206
        },
        "id": "22FyyXg2IBEc",
        "outputId": "aced722d-1d3b-4b17-f9fa-3128ccde8374"
      },
      "source": [
        "import pandas as pd\n",
        "train_data = pd.read_csv('./train_data.csv', index_col=0)\n",
        "#train_data.columns = ['label', 'text']\n",
        "train_data.head()"
      ],
      "execution_count": 5,
      "outputs": [
        {
          "output_type": "execute_result",
          "data": {
            "text/html": [
              "<div>\n",
              "<style scoped>\n",
              "    .dataframe tbody tr th:only-of-type {\n",
              "        vertical-align: middle;\n",
              "    }\n",
              "\n",
              "    .dataframe tbody tr th {\n",
              "        vertical-align: top;\n",
              "    }\n",
              "\n",
              "    .dataframe thead th {\n",
              "        text-align: right;\n",
              "    }\n",
              "</style>\n",
              "<table border=\"1\" class=\"dataframe\">\n",
              "  <thead>\n",
              "    <tr style=\"text-align: right;\">\n",
              "      <th></th>\n",
              "      <th>label</th>\n",
              "      <th>text</th>\n",
              "    </tr>\n",
              "  </thead>\n",
              "  <tbody>\n",
              "    <tr>\n",
              "      <th>0</th>\n",
              "      <td>2</td>\n",
              "      <td>2967 6758 339 2021 1854 3731 4109 3792 4149 15...</td>\n",
              "    </tr>\n",
              "    <tr>\n",
              "      <th>1</th>\n",
              "      <td>11</td>\n",
              "      <td>4464 486 6352 5619 2465 4802 1452 3137 5778 54...</td>\n",
              "    </tr>\n",
              "    <tr>\n",
              "      <th>2</th>\n",
              "      <td>3</td>\n",
              "      <td>7346 4068 5074 3747 5681 6093 1777 2226 7354 6...</td>\n",
              "    </tr>\n",
              "    <tr>\n",
              "      <th>3</th>\n",
              "      <td>2</td>\n",
              "      <td>7159 948 4866 2109 5520 2490 211 3956 5520 549...</td>\n",
              "    </tr>\n",
              "    <tr>\n",
              "      <th>4</th>\n",
              "      <td>3</td>\n",
              "      <td>3646 3055 3055 2490 4659 6065 3370 5814 2465 5...</td>\n",
              "    </tr>\n",
              "  </tbody>\n",
              "</table>\n",
              "</div>"
            ],
            "text/plain": [
              "   label                                               text\n",
              "0      2  2967 6758 339 2021 1854 3731 4109 3792 4149 15...\n",
              "1     11  4464 486 6352 5619 2465 4802 1452 3137 5778 54...\n",
              "2      3  7346 4068 5074 3747 5681 6093 1777 2226 7354 6...\n",
              "3      2  7159 948 4866 2109 5520 2490 211 3956 5520 549...\n",
              "4      3  3646 3055 3055 2490 4659 6065 3370 5814 2465 5..."
            ]
          },
          "metadata": {},
          "execution_count": 5
        }
      ]
    },
    {
      "cell_type": "code",
      "metadata": {
        "colab": {
          "base_uri": "https://localhost:8080/",
          "height": 206
        },
        "id": "MRLoISNBIWEO",
        "outputId": "2a0d72e3-e3fe-4424-b1dc-5b1b7d8b9b2f"
      },
      "source": [
        "train_data['lenth_text'] = train_data['text'].map(lambda x: len(x.split(' ')))\n",
        "train_data.head()"
      ],
      "execution_count": 14,
      "outputs": [
        {
          "output_type": "execute_result",
          "data": {
            "text/html": [
              "<div>\n",
              "<style scoped>\n",
              "    .dataframe tbody tr th:only-of-type {\n",
              "        vertical-align: middle;\n",
              "    }\n",
              "\n",
              "    .dataframe tbody tr th {\n",
              "        vertical-align: top;\n",
              "    }\n",
              "\n",
              "    .dataframe thead th {\n",
              "        text-align: right;\n",
              "    }\n",
              "</style>\n",
              "<table border=\"1\" class=\"dataframe\">\n",
              "  <thead>\n",
              "    <tr style=\"text-align: right;\">\n",
              "      <th></th>\n",
              "      <th>label</th>\n",
              "      <th>text</th>\n",
              "      <th>lenth_text</th>\n",
              "    </tr>\n",
              "  </thead>\n",
              "  <tbody>\n",
              "    <tr>\n",
              "      <th>0</th>\n",
              "      <td>2</td>\n",
              "      <td>2967 6758 339 2021 1854 3731 4109 3792 4149 15...</td>\n",
              "      <td>1057</td>\n",
              "    </tr>\n",
              "    <tr>\n",
              "      <th>1</th>\n",
              "      <td>11</td>\n",
              "      <td>4464 486 6352 5619 2465 4802 1452 3137 5778 54...</td>\n",
              "      <td>486</td>\n",
              "    </tr>\n",
              "    <tr>\n",
              "      <th>2</th>\n",
              "      <td>3</td>\n",
              "      <td>7346 4068 5074 3747 5681 6093 1777 2226 7354 6...</td>\n",
              "      <td>764</td>\n",
              "    </tr>\n",
              "    <tr>\n",
              "      <th>3</th>\n",
              "      <td>2</td>\n",
              "      <td>7159 948 4866 2109 5520 2490 211 3956 5520 549...</td>\n",
              "      <td>1570</td>\n",
              "    </tr>\n",
              "    <tr>\n",
              "      <th>4</th>\n",
              "      <td>3</td>\n",
              "      <td>3646 3055 3055 2490 4659 6065 3370 5814 2465 5...</td>\n",
              "      <td>307</td>\n",
              "    </tr>\n",
              "  </tbody>\n",
              "</table>\n",
              "</div>"
            ],
            "text/plain": [
              "   label                                               text  lenth_text\n",
              "0      2  2967 6758 339 2021 1854 3731 4109 3792 4149 15...        1057\n",
              "1     11  4464 486 6352 5619 2465 4802 1452 3137 5778 54...         486\n",
              "2      3  7346 4068 5074 3747 5681 6093 1777 2226 7354 6...         764\n",
              "3      2  7159 948 4866 2109 5520 2490 211 3956 5520 549...        1570\n",
              "4      3  3646 3055 3055 2490 4659 6065 3370 5814 2465 5...         307"
            ]
          },
          "metadata": {},
          "execution_count": 14
        }
      ]
    },
    {
      "cell_type": "code",
      "metadata": {
        "colab": {
          "base_uri": "https://localhost:8080/"
        },
        "id": "TezOvCuLJoxl",
        "outputId": "ec42f345-63a6-4222-9180-1915e348d370"
      },
      "source": [
        "train_data.lenth_text.values.mean()"
      ],
      "execution_count": 15,
      "outputs": [
        {
          "output_type": "execute_result",
          "data": {
            "text/plain": [
              "907.20711"
            ]
          },
          "metadata": {},
          "execution_count": 15
        }
      ]
    },
    {
      "cell_type": "code",
      "metadata": {
        "colab": {
          "base_uri": "https://localhost:8080/"
        },
        "id": "1nRh_luQOIf-",
        "outputId": "494ad8ff-194f-4846-b4a1-69605f54904b"
      },
      "source": [
        "train_data.groupby(['label'])['lenth_text'].mean()"
      ],
      "execution_count": 16,
      "outputs": [
        {
          "output_type": "execute_result",
          "data": {
            "text/plain": [
              "label\n",
              "0      878.717663\n",
              "1      870.363676\n",
              "2     1014.429562\n",
              "3      784.774726\n",
              "4      649.705647\n",
              "5     1116.054938\n",
              "6     1249.114071\n",
              "7     1157.883271\n",
              "8      712.401172\n",
              "9      833.627084\n",
              "10     911.138008\n",
              "11     608.889812\n",
              "12    1194.969248\n",
              "13     735.325991\n",
              "Name: lenth_text, dtype: float64"
            ]
          },
          "metadata": {},
          "execution_count": 16
        }
      ]
    },
    {
      "cell_type": "code",
      "metadata": {
        "colab": {
          "base_uri": "https://localhost:8080/",
          "height": 286
        },
        "id": "XmscTYjQOWd6",
        "outputId": "a563592a-ff88-4dad-b651-5a3fa194a4a8"
      },
      "source": [
        "train_data['label'].value_counts().plot.bar()"
      ],
      "execution_count": 17,
      "outputs": [
        {
          "output_type": "execute_result",
          "data": {
            "text/plain": [
              "<matplotlib.axes._subplots.AxesSubplot at 0x7f5df32978d0>"
            ]
          },
          "metadata": {},
          "execution_count": 17
        },
        {
          "output_type": "display_data",
          "data": {
            "image/png": "[encoded data removed]",
            "text/plain": [
              "<Figure size 432x288 with 1 Axes>"
            ]
          },
          "metadata": {
            "needs_background": "light"
          }
        }
      ]
    },
    {
      "cell_type": "code",
      "metadata": {
        "id": "I1nAc3OYPap_",
        "colab": {
          "base_uri": "https://localhost:8080/"
        },
        "outputId": "a1edea7c-b94a-4d7a-be30-ce2f709bb55f"
      },
      "source": [
        "def func(x):\n",
        "  dic = {}\n",
        "  for i in list(x):\n",
        "    for word in i.split(' '):\n",
        "      if word not in dic:\n",
        "        dic[word] = 1\n",
        "      else:\n",
        "        dic[word] += 1\n",
        "  lst_dic = sorted(dic.items(), key=lambda x:x[1], reverse=True)[:5]\n",
        "  return [x[0] for x in lst_dic]\n",
        "train_data.groupby(['label'])['text'].apply(func)"
      ],
      "execution_count": 9,
      "outputs": [
        {
          "output_type": "execute_result",
          "data": {
            "text/plain": [
              "label\n",
              "0      [3750, 648, 900, 3370, 4464]\n",
              "1      [3750, 648, 3370, 900, 4464]\n",
              "2      [3750, 648, 900, 7399, 6122]\n",
              "3      [3750, 648, 900, 6122, 4939]\n",
              "4      [3750, 648, 900, 4411, 7399]\n",
              "5      [3750, 648, 900, 6122, 5598]\n",
              "6      [3750, 648, 900, 6248, 2555]\n",
              "7      [3750, 648, 900, 3370, 5296]\n",
              "8      [3750, 648, 900, 6122, 4939]\n",
              "9      [3750, 648, 900, 7328, 6122]\n",
              "10     [3750, 648, 900, 3370, 2465]\n",
              "11     [3750, 648, 900, 4939, 6122]\n",
              "12    [3750, 4464, 3370, 648, 2465]\n",
              "13      [3750, 648, 900, 4939, 669]\n",
              "Name: text, dtype: object"
            ]
          },
          "metadata": {},
          "execution_count": 9
        }
      ]
    },
    {
      "cell_type": "code",
      "metadata": {
        "id": "CYSmXACep33N"
      },
      "source": [
        ""
      ],
      "execution_count": null,
      "outputs": []
    }
  ]
}